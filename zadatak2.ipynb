{
 "cells": [
  {
   "cell_type": "code",
   "execution_count": null,
   "metadata": {},
   "outputs": [],
   "source": [
    "import pandas as pd\n",
    "from sklearn.model_selection import train_test_split\n",
    "from sklearn.feature_extraction.text import TfidfVectorizer\n",
    "from sklearn.linear_model import LogisticRegression\n",
    "from sklearn.metrics import roc_auc_score\n",
    "import os\n"
   ]
  },
  {
   "cell_type": "code",
   "execution_count": null,
   "metadata": {},
   "outputs": [],
   "source": [
    "\n",
    "# Automatski postavi putanju do trenutnog direktorijuma\n",
    "current_dir = os.path.dirname(__file__)  # Direktorijum u kojem se nalazi skripta\n",
    "\n",
    "# Putanje do fajlova\n",
    "train_csv_path = os.path.join(current_dir, 'data', 'jigsaw-toxic-comment-train.csv')\n",
    "test_csv_path = os.path.join(current_dir, 'data', 'test.csv')\n",
    "\n",
    "# Učitaj trening podatke\n",
    "train_data = pd.read_csv(train_csv_path)\n"
   ]
  },
  {
   "cell_type": "code",
   "execution_count": null,
   "metadata": {},
   "outputs": [],
   "source": [
    "\n",
    "# Priprema podataka\n",
    "train_data['comment_text'] = train_data['comment_text'].astype(str)\n",
    "train_data['toxic'] = train_data['toxic'].astype(int)\n",
    "\n",
    "# Podjela na trening i validacione podatke\n",
    "train_texts, val_texts, train_labels, val_labels = train_test_split(\n",
    "    train_data['comment_text'], train_data['toxic'], test_size=0.2, random_state=42\n",
    ")\n"
   ]
  },
  {
   "cell_type": "code",
   "execution_count": null,
   "metadata": {},
   "outputs": [],
   "source": [
    "\n",
    "# Pretvorba teksta u numeričke karakteristike pomoću TF-IDF\n",
    "vectorizer = TfidfVectorizer(max_features=20000, ngram_range=(1, 2))\n",
    "X_train = vectorizer.fit_transform(train_texts)\n",
    "X_val = vectorizer.transform(val_texts)\n"
   ]
  },
  {
   "cell_type": "code",
   "execution_count": null,
   "metadata": {},
   "outputs": [],
   "source": [
    "\n",
    "# Treniranje jednostavnog modela logističke regresije\n",
    "model = LogisticRegression(max_iter=1000)\n",
    "model.fit(X_train, train_labels)\n",
    "\n",
    "# Evaluacija modela\n",
    "val_preds = model.predict_proba(X_val)[:, 1]\n",
    "roc_auc = roc_auc_score(val_labels, val_preds)\n",
    "print(f\"Validation ROC-AUC: {roc_auc:.4f}\")\n",
    "\n"
   ]
  },
  {
   "cell_type": "code",
   "execution_count": null,
   "metadata": {},
   "outputs": [],
   "source": [
    "# Učitaj test podatke\n",
    "test_data = pd.read_csv(test_csv_path)\n",
    "test_data['content'] = test_data['content'].astype(str)\n",
    "\n",
    "# Pretvorba testnog teksta u numeričke karakteristike\n",
    "X_test = vectorizer.transform(test_data['content'])\n",
    "\n",
    "# Predikcija na testnim podacima\n",
    "test_preds = model.predict_proba(X_test)[:, 1]\n",
    "\n"
   ]
  },
  {
   "cell_type": "code",
   "execution_count": null,
   "metadata": {},
   "outputs": [],
   "source": [
    "# Kreiranje izlaznog fajla\n",
    "submission = pd.DataFrame({\n",
    "    'id': test_data['id'],\n",
    "    'toxic': test_preds\n",
    "})\n",
    "submission_path = os.path.join(current_dir, 'submission.csv')\n",
    "submission.to_csv(submission_path, index=False)\n",
    "\n",
    "print(f\"Submission file saved as {submission_path}\")\n"
   ]
  }
 ],
 "metadata": {
  "language_info": {
   "name": "python"
  }
 },
 "nbformat": 4,
 "nbformat_minor": 2
}
